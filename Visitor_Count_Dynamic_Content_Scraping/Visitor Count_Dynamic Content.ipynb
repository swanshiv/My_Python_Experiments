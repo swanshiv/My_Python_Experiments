{
 "cells": [
  {
   "cell_type": "code",
   "execution_count": 1,
   "id": "f7f3721a",
   "metadata": {},
   "outputs": [],
   "source": [
    "import requests\n",
    "import csv\n",
    "import time\n",
    "from bs4 import BeautifulSoup"
   ]
  },
  {
   "cell_type": "code",
   "execution_count": 2,
   "id": "89f43b7c",
   "metadata": {},
   "outputs": [],
   "source": [
    "def scrape_content():\n",
    "    url = \"https://www.swayamprabha.gov.in/index.php//home/visitors_count\"\n",
    "    response = requests.get(url)\n",
    "\n",
    "    if response.status_code == 200:\n",
    "        content = response.content.decode(\"utf-8\")\n",
    "        extracted_content = content.strip('\"')  # Remove surrounding double quotes\n",
    "        #content = response.content.decode(\"utf-8\")\n",
    "        #start_index = content.find(\"<body>\") + len(\"<body>\")\n",
    "        #end_index = content.find(\"</body>\", start_index)\n",
    "        #body_content = content[start_index:end_index].strip()  # Remove leading and trailing whitespace\n",
    "        #extracted_content = body_content.strip('\"')  # Remove surrounding double quotes\n",
    "        return extracted_content\n",
    "    else:\n",
    "        print(\"Failed to retrieve the webpage. Status code:\", response.status_code)\n",
    "        return None"
   ]
  },
  {
   "cell_type": "code",
   "execution_count": 3,
   "id": "fe95f31b",
   "metadata": {},
   "outputs": [],
   "source": [
    "# Set the CSV file name\n",
    "csv_file = \"/Users/shivranjan/Downloads/Wadhwani Workspace/Ministry of Education/visitors_count_data.csv\""
   ]
  },
  {
   "cell_type": "code",
   "execution_count": null,
   "id": "d068db0c",
   "metadata": {},
   "outputs": [
    {
     "name": "stdout",
     "output_type": "stream",
     "text": [
      "Data appended at 2023-08-29 13:58:30: 1958990\n"
     ]
    }
   ],
   "source": [
    "# Run the script every 15 minutes\n",
    "while True:\n",
    "    current_time = time.strftime(\"%Y-%m-%d %H:%M:%S\")\n",
    "    extracted_content = scrape_content()\n",
    "\n",
    "    if extracted_content is not None:\n",
    "        # Append the data to the CSV file\n",
    "        with open(csv_file, \"a\", newline=\"\") as file:\n",
    "            writer = csv.writer(file)\n",
    "            writer.writerow([current_time, extracted_content])\n",
    "        print(f\"Data appended at {current_time}: {extracted_content}\")\n",
    "\n",
    "    time.sleep(900)  # 900 seconds = 15 minutes"
   ]
  },
  {
   "cell_type": "code",
   "execution_count": null,
   "id": "34077daa",
   "metadata": {},
   "outputs": [],
   "source": []
  }
 ],
 "metadata": {
  "kernelspec": {
   "display_name": "Python 3 (ipykernel)",
   "language": "python",
   "name": "python3"
  },
  "language_info": {
   "codemirror_mode": {
    "name": "ipython",
    "version": 3
   },
   "file_extension": ".py",
   "mimetype": "text/x-python",
   "name": "python",
   "nbconvert_exporter": "python",
   "pygments_lexer": "ipython3",
   "version": "3.10.9"
  }
 },
 "nbformat": 4,
 "nbformat_minor": 5
}
